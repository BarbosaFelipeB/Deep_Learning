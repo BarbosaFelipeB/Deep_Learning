{
 "cells": [
  {
   "cell_type": "code",
   "execution_count": 1,
   "id": "75eb2548",
   "metadata": {
    "_cell_guid": "b1076dfc-b9ad-4769-8c92-a6c4dae69d19",
    "_uuid": "8f2839f25d086af736a60e9eeb907d3b93b6e0e5",
    "execution": {
     "iopub.execute_input": "2022-06-02T01:32:16.808801Z",
     "iopub.status.busy": "2022-06-02T01:32:16.807922Z",
     "iopub.status.idle": "2022-06-02T01:32:16.821206Z",
     "shell.execute_reply": "2022-06-02T01:32:16.820288Z"
    },
    "papermill": {
     "duration": 0.065204,
     "end_time": "2022-06-02T01:32:16.823312",
     "exception": false,
     "start_time": "2022-06-02T01:32:16.758108",
     "status": "completed"
    },
    "tags": []
   },
   "outputs": [
    {
     "name": "stdout",
     "output_type": "stream",
     "text": [
      "/kaggle/input/digit-recognizer/sample_submission.csv\n",
      "/kaggle/input/digit-recognizer/train.csv\n",
      "/kaggle/input/digit-recognizer/test.csv\n"
     ]
    }
   ],
   "source": [
    "# This Python 3 environment comes with many helpful analytics libraries installed\n",
    "# It is defined by the kaggle/python Docker image: https://github.com/kaggle/docker-python\n",
    "# For example, here's several helpful packages to load\n",
    "\n",
    "import numpy as np # linear algebra\n",
    "import pandas as pd # data processing, CSV file I/O (e.g. pd.read_csv)\n",
    "\n",
    "# Input data files are available in the read-only \"../input/\" directory\n",
    "# For example, running this (by clicking run or pressing Shift+Enter) will list all files under the input directory\n",
    "\n",
    "import os\n",
    "for dirname, _, filenames in os.walk('/kaggle/input'):\n",
    "    for filename in filenames:\n",
    "        print(os.path.join(dirname, filename))\n",
    "\n",
    "# You can write up to 20GB to the current directory (/kaggle/working/) that gets preserved as output when you create a version using \"Save & Run All\" \n",
    "# You can also write temporary files to /kaggle/temp/, but they won't be saved outside of the current session"
   ]
  },
  {
   "cell_type": "markdown",
   "id": "1240a45f",
   "metadata": {
    "papermill": {
     "duration": 0.04663,
     "end_time": "2022-06-02T01:32:16.917524",
     "exception": false,
     "start_time": "2022-06-02T01:32:16.870894",
     "status": "completed"
    },
    "tags": []
   },
   "source": [
    "1 Introduction\n",
    "\n",
    "MNIST (\"Modified National Institute of Standards and Technology\") is the classic dataset of handwritten images, since its release in 1999. A new machine learning techniques emerge, MNIST remains a reliable resource for researchers and learners alike. The goal is to correctly identify digits from a dataset of tens of thousands of handwritten images.\n",
    "\n",
    "Import Libraries"
   ]
  },
  {
   "cell_type": "code",
   "execution_count": 2,
   "id": "953d7252",
   "metadata": {
    "execution": {
     "iopub.execute_input": "2022-06-02T01:32:17.014787Z",
     "iopub.status.busy": "2022-06-02T01:32:17.014485Z",
     "iopub.status.idle": "2022-06-02T01:32:24.360926Z",
     "shell.execute_reply": "2022-06-02T01:32:24.359906Z"
    },
    "papermill": {
     "duration": 7.396773,
     "end_time": "2022-06-02T01:32:24.363350",
     "exception": false,
     "start_time": "2022-06-02T01:32:16.966577",
     "status": "completed"
    },
    "tags": []
   },
   "outputs": [],
   "source": [
    "import warnings\n",
    "warnings.filterwarnings(\"ignore\")\n",
    "\n",
    "# Import the necessary libs\n",
    "import pandas as pd\n",
    "import numpy as np\n",
    "import matplotlib.pyplot as plt\n",
    "import matplotlib.image as mpimg\n",
    "import seaborn as sns\n",
    "%matplotlib inline\n",
    "\n",
    "np.random.seed(2)\n",
    "\n",
    "from sklearn.model_selection import train_test_split\n",
    "from sklearn.metrics import confusion_matrix\n",
    "import itertools\n",
    "\n",
    "from keras.utils.np_utils import to_categorical # convert to one-hot-encoding\n",
    "from keras.models import Sequential\n",
    "from keras.layers import Dense, Dropout, Flatten, Conv2D, MaxPool2D, BatchNormalization\n",
    "from tensorflow.keras.optimizers import RMSprop\n",
    "from keras.preprocessing.image import ImageDataGenerator\n",
    "from keras.callbacks import ReduceLROnPlateau\n",
    "from keras.datasets import mnist\n",
    "import tensorflow as tf\n",
    "\n",
    "sns.set(style='white', context='notebook', palette='deep')"
   ]
  },
  {
   "cell_type": "markdown",
   "id": "15e495c8",
   "metadata": {
    "papermill": {
     "duration": 0.046546,
     "end_time": "2022-06-02T01:32:24.457182",
     "exception": false,
     "start_time": "2022-06-02T01:32:24.410636",
     "status": "completed"
    },
    "tags": []
   },
   "source": [
    "2 Data preparation\n",
    "\n",
    "2.1 Load data"
   ]
  },
  {
   "cell_type": "code",
   "execution_count": 3,
   "id": "9ead9dad",
   "metadata": {
    "execution": {
     "iopub.execute_input": "2022-06-02T01:32:24.553051Z",
     "iopub.status.busy": "2022-06-02T01:32:24.552336Z",
     "iopub.status.idle": "2022-06-02T01:32:30.395663Z",
     "shell.execute_reply": "2022-06-02T01:32:30.394643Z"
    },
    "papermill": {
     "duration": 5.893464,
     "end_time": "2022-06-02T01:32:30.397810",
     "exception": false,
     "start_time": "2022-06-02T01:32:24.504346",
     "status": "completed"
    },
    "tags": []
   },
   "outputs": [
    {
     "name": "stdout",
     "output_type": "stream",
     "text": [
      "Data are Ready!!\n"
     ]
    }
   ],
   "source": [
    "train = pd.read_csv('../input/digit-recognizer/train.csv')\n",
    "test = pd.read_csv('../input/digit-recognizer/test.csv')\n",
    "sub = pd.read_csv('../input/digit-recognizer/sample_submission.csv')\n",
    "\n",
    "print(\"Data are Ready!!\")"
   ]
  },
  {
   "cell_type": "code",
   "execution_count": 4,
   "id": "2f674b5c",
   "metadata": {
    "execution": {
     "iopub.execute_input": "2022-06-02T01:32:30.505663Z",
     "iopub.status.busy": "2022-06-02T01:32:30.505304Z",
     "iopub.status.idle": "2022-06-02T01:32:30.517049Z",
     "shell.execute_reply": "2022-06-02T01:32:30.516042Z"
    },
    "papermill": {
     "duration": 0.072553,
     "end_time": "2022-06-02T01:32:30.520353",
     "exception": false,
     "start_time": "2022-06-02T01:32:30.447800",
     "status": "completed"
    },
    "tags": []
   },
   "outputs": [
    {
     "data": {
      "text/plain": [
       "(42000, 785)"
      ]
     },
     "execution_count": 4,
     "metadata": {},
     "output_type": "execute_result"
    }
   ],
   "source": [
    "train.shape"
   ]
  },
  {
   "cell_type": "code",
   "execution_count": 5,
   "id": "99657bb5",
   "metadata": {
    "execution": {
     "iopub.execute_input": "2022-06-02T01:32:30.643766Z",
     "iopub.status.busy": "2022-06-02T01:32:30.643453Z",
     "iopub.status.idle": "2022-06-02T01:32:30.674042Z",
     "shell.execute_reply": "2022-06-02T01:32:30.665082Z"
    },
    "papermill": {
     "duration": 0.082415,
     "end_time": "2022-06-02T01:32:30.676849",
     "exception": false,
     "start_time": "2022-06-02T01:32:30.594434",
     "status": "completed"
    },
    "tags": []
   },
   "outputs": [
    {
     "data": {
      "text/html": [
       "<div>\n",
       "<style scoped>\n",
       "    .dataframe tbody tr th:only-of-type {\n",
       "        vertical-align: middle;\n",
       "    }\n",
       "\n",
       "    .dataframe tbody tr th {\n",
       "        vertical-align: top;\n",
       "    }\n",
       "\n",
       "    .dataframe thead th {\n",
       "        text-align: right;\n",
       "    }\n",
       "</style>\n",
       "<table border=\"1\" class=\"dataframe\">\n",
       "  <thead>\n",
       "    <tr style=\"text-align: right;\">\n",
       "      <th></th>\n",
       "      <th>label</th>\n",
       "      <th>pixel0</th>\n",
       "      <th>pixel1</th>\n",
       "      <th>pixel2</th>\n",
       "      <th>pixel3</th>\n",
       "      <th>pixel4</th>\n",
       "      <th>pixel5</th>\n",
       "      <th>pixel6</th>\n",
       "      <th>pixel7</th>\n",
       "      <th>pixel8</th>\n",
       "      <th>...</th>\n",
       "      <th>pixel774</th>\n",
       "      <th>pixel775</th>\n",
       "      <th>pixel776</th>\n",
       "      <th>pixel777</th>\n",
       "      <th>pixel778</th>\n",
       "      <th>pixel779</th>\n",
       "      <th>pixel780</th>\n",
       "      <th>pixel781</th>\n",
       "      <th>pixel782</th>\n",
       "      <th>pixel783</th>\n",
       "    </tr>\n",
       "  </thead>\n",
       "  <tbody>\n",
       "    <tr>\n",
       "      <th>0</th>\n",
       "      <td>1</td>\n",
       "      <td>0</td>\n",
       "      <td>0</td>\n",
       "      <td>0</td>\n",
       "      <td>0</td>\n",
       "      <td>0</td>\n",
       "      <td>0</td>\n",
       "      <td>0</td>\n",
       "      <td>0</td>\n",
       "      <td>0</td>\n",
       "      <td>...</td>\n",
       "      <td>0</td>\n",
       "      <td>0</td>\n",
       "      <td>0</td>\n",
       "      <td>0</td>\n",
       "      <td>0</td>\n",
       "      <td>0</td>\n",
       "      <td>0</td>\n",
       "      <td>0</td>\n",
       "      <td>0</td>\n",
       "      <td>0</td>\n",
       "    </tr>\n",
       "    <tr>\n",
       "      <th>1</th>\n",
       "      <td>0</td>\n",
       "      <td>0</td>\n",
       "      <td>0</td>\n",
       "      <td>0</td>\n",
       "      <td>0</td>\n",
       "      <td>0</td>\n",
       "      <td>0</td>\n",
       "      <td>0</td>\n",
       "      <td>0</td>\n",
       "      <td>0</td>\n",
       "      <td>...</td>\n",
       "      <td>0</td>\n",
       "      <td>0</td>\n",
       "      <td>0</td>\n",
       "      <td>0</td>\n",
       "      <td>0</td>\n",
       "      <td>0</td>\n",
       "      <td>0</td>\n",
       "      <td>0</td>\n",
       "      <td>0</td>\n",
       "      <td>0</td>\n",
       "    </tr>\n",
       "    <tr>\n",
       "      <th>2</th>\n",
       "      <td>1</td>\n",
       "      <td>0</td>\n",
       "      <td>0</td>\n",
       "      <td>0</td>\n",
       "      <td>0</td>\n",
       "      <td>0</td>\n",
       "      <td>0</td>\n",
       "      <td>0</td>\n",
       "      <td>0</td>\n",
       "      <td>0</td>\n",
       "      <td>...</td>\n",
       "      <td>0</td>\n",
       "      <td>0</td>\n",
       "      <td>0</td>\n",
       "      <td>0</td>\n",
       "      <td>0</td>\n",
       "      <td>0</td>\n",
       "      <td>0</td>\n",
       "      <td>0</td>\n",
       "      <td>0</td>\n",
       "      <td>0</td>\n",
       "    </tr>\n",
       "    <tr>\n",
       "      <th>3</th>\n",
       "      <td>4</td>\n",
       "      <td>0</td>\n",
       "      <td>0</td>\n",
       "      <td>0</td>\n",
       "      <td>0</td>\n",
       "      <td>0</td>\n",
       "      <td>0</td>\n",
       "      <td>0</td>\n",
       "      <td>0</td>\n",
       "      <td>0</td>\n",
       "      <td>...</td>\n",
       "      <td>0</td>\n",
       "      <td>0</td>\n",
       "      <td>0</td>\n",
       "      <td>0</td>\n",
       "      <td>0</td>\n",
       "      <td>0</td>\n",
       "      <td>0</td>\n",
       "      <td>0</td>\n",
       "      <td>0</td>\n",
       "      <td>0</td>\n",
       "    </tr>\n",
       "    <tr>\n",
       "      <th>4</th>\n",
       "      <td>0</td>\n",
       "      <td>0</td>\n",
       "      <td>0</td>\n",
       "      <td>0</td>\n",
       "      <td>0</td>\n",
       "      <td>0</td>\n",
       "      <td>0</td>\n",
       "      <td>0</td>\n",
       "      <td>0</td>\n",
       "      <td>0</td>\n",
       "      <td>...</td>\n",
       "      <td>0</td>\n",
       "      <td>0</td>\n",
       "      <td>0</td>\n",
       "      <td>0</td>\n",
       "      <td>0</td>\n",
       "      <td>0</td>\n",
       "      <td>0</td>\n",
       "      <td>0</td>\n",
       "      <td>0</td>\n",
       "      <td>0</td>\n",
       "    </tr>\n",
       "  </tbody>\n",
       "</table>\n",
       "<p>5 rows × 785 columns</p>\n",
       "</div>"
      ],
      "text/plain": [
       "   label  pixel0  pixel1  pixel2  pixel3  pixel4  pixel5  pixel6  pixel7  \\\n",
       "0      1       0       0       0       0       0       0       0       0   \n",
       "1      0       0       0       0       0       0       0       0       0   \n",
       "2      1       0       0       0       0       0       0       0       0   \n",
       "3      4       0       0       0       0       0       0       0       0   \n",
       "4      0       0       0       0       0       0       0       0       0   \n",
       "\n",
       "   pixel8  ...  pixel774  pixel775  pixel776  pixel777  pixel778  pixel779  \\\n",
       "0       0  ...         0         0         0         0         0         0   \n",
       "1       0  ...         0         0         0         0         0         0   \n",
       "2       0  ...         0         0         0         0         0         0   \n",
       "3       0  ...         0         0         0         0         0         0   \n",
       "4       0  ...         0         0         0         0         0         0   \n",
       "\n",
       "   pixel780  pixel781  pixel782  pixel783  \n",
       "0         0         0         0         0  \n",
       "1         0         0         0         0  \n",
       "2         0         0         0         0  \n",
       "3         0         0         0         0  \n",
       "4         0         0         0         0  \n",
       "\n",
       "[5 rows x 785 columns]"
      ]
     },
     "execution_count": 5,
     "metadata": {},
     "output_type": "execute_result"
    }
   ],
   "source": [
    "train.head()"
   ]
  },
  {
   "cell_type": "code",
   "execution_count": 6,
   "id": "3a61f758",
   "metadata": {
    "execution": {
     "iopub.execute_input": "2022-06-02T01:32:30.788155Z",
     "iopub.status.busy": "2022-06-02T01:32:30.787378Z",
     "iopub.status.idle": "2022-06-02T01:32:30.794038Z",
     "shell.execute_reply": "2022-06-02T01:32:30.793071Z"
    },
    "papermill": {
     "duration": 0.059379,
     "end_time": "2022-06-02T01:32:30.796092",
     "exception": false,
     "start_time": "2022-06-02T01:32:30.736713",
     "status": "completed"
    },
    "tags": []
   },
   "outputs": [
    {
     "data": {
      "text/plain": [
       "(28000, 784)"
      ]
     },
     "execution_count": 6,
     "metadata": {},
     "output_type": "execute_result"
    }
   ],
   "source": [
    "test.shape"
   ]
  },
  {
   "cell_type": "code",
   "execution_count": 7,
   "id": "32b333f7",
   "metadata": {
    "execution": {
     "iopub.execute_input": "2022-06-02T01:32:30.906438Z",
     "iopub.status.busy": "2022-06-02T01:32:30.905619Z",
     "iopub.status.idle": "2022-06-02T01:32:30.922544Z",
     "shell.execute_reply": "2022-06-02T01:32:30.921674Z"
    },
    "papermill": {
     "duration": 0.069857,
     "end_time": "2022-06-02T01:32:30.924576",
     "exception": false,
     "start_time": "2022-06-02T01:32:30.854719",
     "status": "completed"
    },
    "tags": []
   },
   "outputs": [
    {
     "data": {
      "text/html": [
       "<div>\n",
       "<style scoped>\n",
       "    .dataframe tbody tr th:only-of-type {\n",
       "        vertical-align: middle;\n",
       "    }\n",
       "\n",
       "    .dataframe tbody tr th {\n",
       "        vertical-align: top;\n",
       "    }\n",
       "\n",
       "    .dataframe thead th {\n",
       "        text-align: right;\n",
       "    }\n",
       "</style>\n",
       "<table border=\"1\" class=\"dataframe\">\n",
       "  <thead>\n",
       "    <tr style=\"text-align: right;\">\n",
       "      <th></th>\n",
       "      <th>pixel0</th>\n",
       "      <th>pixel1</th>\n",
       "      <th>pixel2</th>\n",
       "      <th>pixel3</th>\n",
       "      <th>pixel4</th>\n",
       "      <th>pixel5</th>\n",
       "      <th>pixel6</th>\n",
       "      <th>pixel7</th>\n",
       "      <th>pixel8</th>\n",
       "      <th>pixel9</th>\n",
       "      <th>...</th>\n",
       "      <th>pixel774</th>\n",
       "      <th>pixel775</th>\n",
       "      <th>pixel776</th>\n",
       "      <th>pixel777</th>\n",
       "      <th>pixel778</th>\n",
       "      <th>pixel779</th>\n",
       "      <th>pixel780</th>\n",
       "      <th>pixel781</th>\n",
       "      <th>pixel782</th>\n",
       "      <th>pixel783</th>\n",
       "    </tr>\n",
       "  </thead>\n",
       "  <tbody>\n",
       "    <tr>\n",
       "      <th>0</th>\n",
       "      <td>0</td>\n",
       "      <td>0</td>\n",
       "      <td>0</td>\n",
       "      <td>0</td>\n",
       "      <td>0</td>\n",
       "      <td>0</td>\n",
       "      <td>0</td>\n",
       "      <td>0</td>\n",
       "      <td>0</td>\n",
       "      <td>0</td>\n",
       "      <td>...</td>\n",
       "      <td>0</td>\n",
       "      <td>0</td>\n",
       "      <td>0</td>\n",
       "      <td>0</td>\n",
       "      <td>0</td>\n",
       "      <td>0</td>\n",
       "      <td>0</td>\n",
       "      <td>0</td>\n",
       "      <td>0</td>\n",
       "      <td>0</td>\n",
       "    </tr>\n",
       "    <tr>\n",
       "      <th>1</th>\n",
       "      <td>0</td>\n",
       "      <td>0</td>\n",
       "      <td>0</td>\n",
       "      <td>0</td>\n",
       "      <td>0</td>\n",
       "      <td>0</td>\n",
       "      <td>0</td>\n",
       "      <td>0</td>\n",
       "      <td>0</td>\n",
       "      <td>0</td>\n",
       "      <td>...</td>\n",
       "      <td>0</td>\n",
       "      <td>0</td>\n",
       "      <td>0</td>\n",
       "      <td>0</td>\n",
       "      <td>0</td>\n",
       "      <td>0</td>\n",
       "      <td>0</td>\n",
       "      <td>0</td>\n",
       "      <td>0</td>\n",
       "      <td>0</td>\n",
       "    </tr>\n",
       "    <tr>\n",
       "      <th>2</th>\n",
       "      <td>0</td>\n",
       "      <td>0</td>\n",
       "      <td>0</td>\n",
       "      <td>0</td>\n",
       "      <td>0</td>\n",
       "      <td>0</td>\n",
       "      <td>0</td>\n",
       "      <td>0</td>\n",
       "      <td>0</td>\n",
       "      <td>0</td>\n",
       "      <td>...</td>\n",
       "      <td>0</td>\n",
       "      <td>0</td>\n",
       "      <td>0</td>\n",
       "      <td>0</td>\n",
       "      <td>0</td>\n",
       "      <td>0</td>\n",
       "      <td>0</td>\n",
       "      <td>0</td>\n",
       "      <td>0</td>\n",
       "      <td>0</td>\n",
       "    </tr>\n",
       "    <tr>\n",
       "      <th>3</th>\n",
       "      <td>0</td>\n",
       "      <td>0</td>\n",
       "      <td>0</td>\n",
       "      <td>0</td>\n",
       "      <td>0</td>\n",
       "      <td>0</td>\n",
       "      <td>0</td>\n",
       "      <td>0</td>\n",
       "      <td>0</td>\n",
       "      <td>0</td>\n",
       "      <td>...</td>\n",
       "      <td>0</td>\n",
       "      <td>0</td>\n",
       "      <td>0</td>\n",
       "      <td>0</td>\n",
       "      <td>0</td>\n",
       "      <td>0</td>\n",
       "      <td>0</td>\n",
       "      <td>0</td>\n",
       "      <td>0</td>\n",
       "      <td>0</td>\n",
       "    </tr>\n",
       "    <tr>\n",
       "      <th>4</th>\n",
       "      <td>0</td>\n",
       "      <td>0</td>\n",
       "      <td>0</td>\n",
       "      <td>0</td>\n",
       "      <td>0</td>\n",
       "      <td>0</td>\n",
       "      <td>0</td>\n",
       "      <td>0</td>\n",
       "      <td>0</td>\n",
       "      <td>0</td>\n",
       "      <td>...</td>\n",
       "      <td>0</td>\n",
       "      <td>0</td>\n",
       "      <td>0</td>\n",
       "      <td>0</td>\n",
       "      <td>0</td>\n",
       "      <td>0</td>\n",
       "      <td>0</td>\n",
       "      <td>0</td>\n",
       "      <td>0</td>\n",
       "      <td>0</td>\n",
       "    </tr>\n",
       "  </tbody>\n",
       "</table>\n",
       "<p>5 rows × 784 columns</p>\n",
       "</div>"
      ],
      "text/plain": [
       "   pixel0  pixel1  pixel2  pixel3  pixel4  pixel5  pixel6  pixel7  pixel8  \\\n",
       "0       0       0       0       0       0       0       0       0       0   \n",
       "1       0       0       0       0       0       0       0       0       0   \n",
       "2       0       0       0       0       0       0       0       0       0   \n",
       "3       0       0       0       0       0       0       0       0       0   \n",
       "4       0       0       0       0       0       0       0       0       0   \n",
       "\n",
       "   pixel9  ...  pixel774  pixel775  pixel776  pixel777  pixel778  pixel779  \\\n",
       "0       0  ...         0         0         0         0         0         0   \n",
       "1       0  ...         0         0         0         0         0         0   \n",
       "2       0  ...         0         0         0         0         0         0   \n",
       "3       0  ...         0         0         0         0         0         0   \n",
       "4       0  ...         0         0         0         0         0         0   \n",
       "\n",
       "   pixel780  pixel781  pixel782  pixel783  \n",
       "0         0         0         0         0  \n",
       "1         0         0         0         0  \n",
       "2         0         0         0         0  \n",
       "3         0         0         0         0  \n",
       "4         0         0         0         0  \n",
       "\n",
       "[5 rows x 784 columns]"
      ]
     },
     "execution_count": 7,
     "metadata": {},
     "output_type": "execute_result"
    }
   ],
   "source": [
    "test.head()"
   ]
  },
  {
   "cell_type": "code",
   "execution_count": 8,
   "id": "7d0c7aa3",
   "metadata": {
    "execution": {
     "iopub.execute_input": "2022-06-02T01:32:31.026655Z",
     "iopub.status.busy": "2022-06-02T01:32:31.026345Z",
     "iopub.status.idle": "2022-06-02T01:32:31.035259Z",
     "shell.execute_reply": "2022-06-02T01:32:31.034316Z"
    },
    "papermill": {
     "duration": 0.062358,
     "end_time": "2022-06-02T01:32:31.037265",
     "exception": false,
     "start_time": "2022-06-02T01:32:30.974907",
     "status": "completed"
    },
    "tags": []
   },
   "outputs": [
    {
     "data": {
      "text/html": [
       "<div>\n",
       "<style scoped>\n",
       "    .dataframe tbody tr th:only-of-type {\n",
       "        vertical-align: middle;\n",
       "    }\n",
       "\n",
       "    .dataframe tbody tr th {\n",
       "        vertical-align: top;\n",
       "    }\n",
       "\n",
       "    .dataframe thead th {\n",
       "        text-align: right;\n",
       "    }\n",
       "</style>\n",
       "<table border=\"1\" class=\"dataframe\">\n",
       "  <thead>\n",
       "    <tr style=\"text-align: right;\">\n",
       "      <th></th>\n",
       "      <th>ImageId</th>\n",
       "      <th>Label</th>\n",
       "    </tr>\n",
       "  </thead>\n",
       "  <tbody>\n",
       "    <tr>\n",
       "      <th>0</th>\n",
       "      <td>1</td>\n",
       "      <td>0</td>\n",
       "    </tr>\n",
       "    <tr>\n",
       "      <th>1</th>\n",
       "      <td>2</td>\n",
       "      <td>0</td>\n",
       "    </tr>\n",
       "    <tr>\n",
       "      <th>2</th>\n",
       "      <td>3</td>\n",
       "      <td>0</td>\n",
       "    </tr>\n",
       "    <tr>\n",
       "      <th>3</th>\n",
       "      <td>4</td>\n",
       "      <td>0</td>\n",
       "    </tr>\n",
       "    <tr>\n",
       "      <th>4</th>\n",
       "      <td>5</td>\n",
       "      <td>0</td>\n",
       "    </tr>\n",
       "  </tbody>\n",
       "</table>\n",
       "</div>"
      ],
      "text/plain": [
       "   ImageId  Label\n",
       "0        1      0\n",
       "1        2      0\n",
       "2        3      0\n",
       "3        4      0\n",
       "4        5      0"
      ]
     },
     "execution_count": 8,
     "metadata": {},
     "output_type": "execute_result"
    }
   ],
   "source": [
    "sub.head()"
   ]
  },
  {
   "cell_type": "markdown",
   "id": "38e8bef5",
   "metadata": {
    "papermill": {
     "duration": 0.049802,
     "end_time": "2022-06-02T01:32:31.137496",
     "exception": false,
     "start_time": "2022-06-02T01:32:31.087694",
     "status": "completed"
    },
    "tags": []
   },
   "source": [
    "Set data features and Target labels"
   ]
  },
  {
   "cell_type": "code",
   "execution_count": 9,
   "id": "07ce8293",
   "metadata": {
    "execution": {
     "iopub.execute_input": "2022-06-02T01:32:31.239366Z",
     "iopub.status.busy": "2022-06-02T01:32:31.239018Z",
     "iopub.status.idle": "2022-06-02T01:32:31.368513Z",
     "shell.execute_reply": "2022-06-02T01:32:31.367581Z"
    },
    "papermill": {
     "duration": 0.183515,
     "end_time": "2022-06-02T01:32:31.370978",
     "exception": false,
     "start_time": "2022-06-02T01:32:31.187463",
     "status": "completed"
    },
    "tags": []
   },
   "outputs": [],
   "source": [
    "Y_train = train[\"label\"]\n",
    "X_train = train.drop(labels = [\"label\"], axis = 1) "
   ]
  },
  {
   "cell_type": "markdown",
   "id": "cd9a5791",
   "metadata": {
    "papermill": {
     "duration": 0.049529,
     "end_time": "2022-06-02T01:32:31.470490",
     "exception": false,
     "start_time": "2022-06-02T01:32:31.420961",
     "status": "completed"
    },
    "tags": []
   },
   "source": [
    "Load more data sets"
   ]
  },
  {
   "cell_type": "code",
   "execution_count": 10,
   "id": "f22dbb3b",
   "metadata": {
    "execution": {
     "iopub.execute_input": "2022-06-02T01:32:31.573499Z",
     "iopub.status.busy": "2022-06-02T01:32:31.572553Z",
     "iopub.status.idle": "2022-06-02T01:32:32.257137Z",
     "shell.execute_reply": "2022-06-02T01:32:32.256367Z"
    },
    "papermill": {
     "duration": 0.738093,
     "end_time": "2022-06-02T01:32:32.259443",
     "exception": false,
     "start_time": "2022-06-02T01:32:31.521350",
     "status": "completed"
    },
    "tags": []
   },
   "outputs": [
    {
     "name": "stdout",
     "output_type": "stream",
     "text": [
      "Downloading data from https://storage.googleapis.com/tensorflow/tf-keras-datasets/mnist.npz\n",
      "11493376/11490434 [==============================] - 0s 0us/step\n",
      "11501568/11490434 [==============================] - 0s 0us/step\n"
     ]
    }
   ],
   "source": [
    "# Load more data sets, if there is no such data, validation accuracy = 0.9964\n",
    "# With this batch of data, the validation accuracy can reach 0.9985\n",
    "(x_train1, y_train1), (x_test1, y_test1) = mnist.load_data()\n",
    "\n",
    "train1 = np.concatenate([x_train1, x_test1], axis=0)\n",
    "y_train1 = np.concatenate([y_train1, y_test1], axis=0)\n",
    "\n",
    "Y_train1 = y_train1\n",
    "X_train1 = train1.reshape(-1, 28*28)"
   ]
  },
  {
   "cell_type": "markdown",
   "id": "05d30334",
   "metadata": {
    "papermill": {
     "duration": 0.051851,
     "end_time": "2022-06-02T01:32:32.363110",
     "exception": false,
     "start_time": "2022-06-02T01:32:32.311259",
     "status": "completed"
    },
    "tags": []
   },
   "source": [
    "Balance on Target Label"
   ]
  },
  {
   "cell_type": "code",
   "execution_count": 11,
   "id": "a1ef54b7",
   "metadata": {
    "execution": {
     "iopub.execute_input": "2022-06-02T01:32:32.468840Z",
     "iopub.status.busy": "2022-06-02T01:32:32.468299Z",
     "iopub.status.idle": "2022-06-02T01:32:32.733658Z",
     "shell.execute_reply": "2022-06-02T01:32:32.732817Z"
    },
    "papermill": {
     "duration": 0.32118,
     "end_time": "2022-06-02T01:32:32.736092",
     "exception": false,
     "start_time": "2022-06-02T01:32:32.414912",
     "status": "completed"
    },
    "tags": []
   },
   "outputs": [
    {
     "data": {
      "image/png": "[encoded data removed]",
      "text/plain": [
       "<Figure size 432x288 with 1 Axes>"
      ]
     },
     "metadata": {},
     "output_type": "display_data"
    }
   ],
   "source": [
    "# Print data histogram\n",
    "sns.countplot(Y_train);"
   ]
  },
  {
   "cell_type": "markdown",
   "id": "622465e7",
   "metadata": {
    "papermill": {
     "duration": 0.053242,
     "end_time": "2022-06-02T01:32:32.842379",
     "exception": false,
     "start_time": "2022-06-02T01:32:32.789137",
     "status": "completed"
    },
    "tags": []
   },
   "source": [
    "2.2 Normalization\n",
    "\n",
    "Perform a grayscale normalization to reduce the effect of illumination's differences.\n",
    "\n",
    "Moreover the CNN converg faster on [0..1] data than on [0..255]."
   ]
  },
  {
   "cell_type": "code",
   "execution_count": 12,
   "id": "f2977437",
   "metadata": {
    "execution": {
     "iopub.execute_input": "2022-06-02T01:32:32.951002Z",
     "iopub.status.busy": "2022-06-02T01:32:32.950489Z",
     "iopub.status.idle": "2022-06-02T01:32:33.265008Z",
     "shell.execute_reply": "2022-06-02T01:32:33.264075Z"
    },
    "papermill": {
     "duration": 0.372188,
     "end_time": "2022-06-02T01:32:33.267659",
     "exception": false,
     "start_time": "2022-06-02T01:32:32.895471",
     "status": "completed"
    },
    "tags": []
   },
   "outputs": [],
   "source": [
    "# Normalize data to make CNN faster\n",
    "X_train = X_train / 255.0\n",
    "test = test / 255.0\n",
    "\n",
    "X_train1 = X_train1 / 255.0"
   ]
  },
  {
   "cell_type": "markdown",
   "id": "9ce657f7",
   "metadata": {
    "papermill": {
     "duration": 0.052503,
     "end_time": "2022-06-02T01:32:33.372750",
     "exception": false,
     "start_time": "2022-06-02T01:32:33.320247",
     "status": "completed"
    },
    "tags": []
   },
   "source": [
    "Merging all the data"
   ]
  },
  {
   "cell_type": "code",
   "execution_count": 13,
   "id": "8c8963f1",
   "metadata": {
    "execution": {
     "iopub.execute_input": "2022-06-02T01:32:33.479945Z",
     "iopub.status.busy": "2022-06-02T01:32:33.479667Z",
     "iopub.status.idle": "2022-06-02T01:32:33.872397Z",
     "shell.execute_reply": "2022-06-02T01:32:33.871360Z"
    },
    "papermill": {
     "duration": 0.450218,
     "end_time": "2022-06-02T01:32:33.875511",
     "exception": false,
     "start_time": "2022-06-02T01:32:33.425293",
     "status": "completed"
    },
    "tags": []
   },
   "outputs": [],
   "source": [
    "X_train = np.concatenate((X_train.values, X_train1))\n",
    "Y_train = np.concatenate((Y_train, Y_train1))"
   ]
  },
  {
   "cell_type": "markdown",
   "id": "4dc8b5b2",
   "metadata": {
    "papermill": {
     "duration": 0.052875,
     "end_time": "2022-06-02T01:32:33.981158",
     "exception": false,
     "start_time": "2022-06-02T01:32:33.928283",
     "status": "completed"
    },
    "tags": []
   },
   "source": [
    "2.3 Reshape"
   ]
  },
  {
   "cell_type": "code",
   "execution_count": 14,
   "id": "e8b4a286",
   "metadata": {
    "execution": {
     "iopub.execute_input": "2022-06-02T01:32:34.092169Z",
     "iopub.status.busy": "2022-06-02T01:32:34.091767Z",
     "iopub.status.idle": "2022-06-02T01:32:34.096356Z",
     "shell.execute_reply": "2022-06-02T01:32:34.095789Z"
    },
    "papermill": {
     "duration": 0.063219,
     "end_time": "2022-06-02T01:32:34.098239",
     "exception": false,
     "start_time": "2022-06-02T01:32:34.035020",
     "status": "completed"
    },
    "tags": []
   },
   "outputs": [],
   "source": [
    "# Reshape image in 3 dimensions (height = 28px, width = 28px , canal = 1)\n",
    "# canal = 1 => For gray scale\n",
    "X_train = X_train.reshape(-1,28,28,1)\n",
    "test = test.values.reshape(-1,28,28,1)"
   ]
  },
  {
   "cell_type": "markdown",
   "id": "0b52c39c",
   "metadata": {
    "papermill": {
     "duration": 0.052437,
     "end_time": "2022-06-02T01:32:34.203393",
     "exception": false,
     "start_time": "2022-06-02T01:32:34.150956",
     "status": "completed"
    },
    "tags": []
   },
   "source": [
    "One-Hot Encoding\n",
    "\n",
    "Labels are 10 digits numbers from 0 to 9. Need to encode these lables to one hot vectors (ex : 2 -> [0,0,1,0,0,0,0,0,0,0])."
   ]
  },
  {
   "cell_type": "code",
   "execution_count": 15,
   "id": "f3f0c89d",
   "metadata": {
    "execution": {
     "iopub.execute_input": "2022-06-02T01:32:34.310751Z",
     "iopub.status.busy": "2022-06-02T01:32:34.310283Z",
     "iopub.status.idle": "2022-06-02T01:32:34.316493Z",
     "shell.execute_reply": "2022-06-02T01:32:34.315805Z"
    },
    "papermill": {
     "duration": 0.062411,
     "end_time": "2022-06-02T01:32:34.318473",
     "exception": false,
     "start_time": "2022-06-02T01:32:34.256062",
     "status": "completed"
    },
    "tags": []
   },
   "outputs": [],
   "source": [
    "# Convert label to one hot vectors (ex : 2 -> [0,0,1,0,0,0,0,0,0,0])\n",
    "Y_train = to_categorical(Y_train, num_classes = 10)"
   ]
  },
  {
   "cell_type": "markdown",
   "id": "710855f4",
   "metadata": {
    "papermill": {
     "duration": 0.052973,
     "end_time": "2022-06-02T01:32:34.424585",
     "exception": false,
     "start_time": "2022-06-02T01:32:34.371612",
     "status": "completed"
    },
    "tags": []
   },
   "source": [
    "2.5 Split training and valdiation set\n",
    "\n",
    "Let's split the train set in two parts : a small fraction (10%) became the validation set which the model is evaluated and the rest (90%) is used to train the model."
   ]
  },
  {
   "cell_type": "code",
   "execution_count": 16,
   "id": "33874973",
   "metadata": {
    "execution": {
     "iopub.execute_input": "2022-06-02T01:32:34.533299Z",
     "iopub.status.busy": "2022-06-02T01:32:34.532875Z",
     "iopub.status.idle": "2022-06-02T01:32:34.847738Z",
     "shell.execute_reply": "2022-06-02T01:32:34.846953Z"
    },
    "papermill": {
     "duration": 0.372436,
     "end_time": "2022-06-02T01:32:34.850331",
     "exception": false,
     "start_time": "2022-06-02T01:32:34.477895",
     "status": "completed"
    },
    "tags": []
   },
   "outputs": [],
   "source": [
    "# Split the train and the validation set for the fitting\n",
    "X_train, X_val, Y_train, Y_val = train_test_split(X_train, Y_train, test_size = 0.1, random_state=2)"
   ]
  },
  {
   "cell_type": "code",
   "execution_count": 17,
   "id": "74a61d15",
   "metadata": {
    "execution": {
     "iopub.execute_input": "2022-06-02T01:32:34.959507Z",
     "iopub.status.busy": "2022-06-02T01:32:34.958572Z",
     "iopub.status.idle": "2022-06-02T01:32:34.964392Z",
     "shell.execute_reply": "2022-06-02T01:32:34.963741Z"
    },
    "papermill": {
     "duration": 0.06208,
     "end_time": "2022-06-02T01:32:34.966168",
     "exception": false,
     "start_time": "2022-06-02T01:32:34.904088",
     "status": "completed"
    },
    "tags": []
   },
   "outputs": [
    {
     "data": {
      "text/plain": [
       "((100800, 28, 28, 1), (11200, 28, 28, 1), (100800, 10), (11200, 10))"
      ]
     },
     "execution_count": 17,
     "metadata": {},
     "output_type": "execute_result"
    }
   ],
   "source": [
    "X_train.shape, X_val.shape, Y_train.shape, Y_val.shape"
   ]
  },
  {
   "cell_type": "code",
   "execution_count": 18,
   "id": "d0cc90df",
   "metadata": {
    "execution": {
     "iopub.execute_input": "2022-06-02T01:32:35.074159Z",
     "iopub.status.busy": "2022-06-02T01:32:35.073645Z",
     "iopub.status.idle": "2022-06-02T01:32:35.078658Z",
     "shell.execute_reply": "2022-06-02T01:32:35.077325Z"
    },
    "papermill": {
     "duration": 0.06144,
     "end_time": "2022-06-02T01:32:35.080812",
     "exception": false,
     "start_time": "2022-06-02T01:32:35.019372",
     "status": "completed"
    },
    "tags": []
   },
   "outputs": [
    {
     "name": "stdout",
     "output_type": "stream",
     "text": [
      "[0. 0. 0. 0. 0. 0. 1. 0. 0. 0.]\n"
     ]
    }
   ],
   "source": [
    "print(Y_train[0])\n",
    "#print(X_train[0])"
   ]
  },
  {
   "cell_type": "markdown",
   "id": "5d3941af",
   "metadata": {
    "papermill": {
     "duration": 0.053232,
     "end_time": "2022-06-02T01:32:35.187386",
     "exception": false,
     "start_time": "2022-06-02T01:32:35.134154",
     "status": "completed"
    },
    "tags": []
   },
   "source": [
    "Data Visualization"
   ]
  },
  {
   "cell_type": "code",
   "execution_count": 19,
   "id": "2960a704",
   "metadata": {
    "execution": {
     "iopub.execute_input": "2022-06-02T01:32:35.295139Z",
     "iopub.status.busy": "2022-06-02T01:32:35.294866Z",
     "iopub.status.idle": "2022-06-02T01:32:35.620319Z",
     "shell.execute_reply": "2022-06-02T01:32:35.619154Z"
    },
    "papermill": {
     "duration": 0.383306,
     "end_time": "2022-06-02T01:32:35.623745",
     "exception": false,
     "start_time": "2022-06-02T01:32:35.240439",
     "status": "completed"
    },
    "tags": []
   },
   "outputs": [
    {
     "data": {
      "image/png": "[encoded data removed]",
      "text/plain": [
       "<Figure size 1440x1440 with 6 Axes>"
      ]
     },
     "metadata": {},
     "output_type": "display_data"
    }
   ],
   "source": [
    "# plot first six training images\n",
    "fig = plt.figure(figsize=(20,20))\n",
    "for i in range(6):\n",
    "    ax = fig.add_subplot(1, 6, i+1, xticks=[], yticks=[])\n",
    "    ax.imshow(X_train[i].reshape(28,28), cmap='gray')\n",
    "    ax.set_title(str(Y_train[i]))"
   ]
  },
  {
   "cell_type": "code",
   "execution_count": 20,
   "id": "41faa454",
   "metadata": {
    "execution": {
     "iopub.execute_input": "2022-06-02T01:32:35.736665Z",
     "iopub.status.busy": "2022-06-02T01:32:35.735758Z",
     "iopub.status.idle": "2022-06-02T01:32:40.070143Z",
     "shell.execute_reply": "2022-06-02T01:32:40.068849Z"
    },
    "papermill": {
     "duration": 4.39436,
     "end_time": "2022-06-02T01:32:40.074292",
     "exception": false,
     "start_time": "2022-06-02T01:32:35.679932",
     "status": "completed"
    },
    "tags": []
   },
   "outputs": [
    {
     "data": {
      "image/png": "[encoded data removed]",
      "text/plain": [
       "<Figure size 1008x1008 with 1 Axes>"
      ]
     },
     "metadata": {},
     "output_type": "display_data"
    }
   ],
   "source": [
    "def visualize_input(img, ax):\n",
    "    ax.imshow(img, cmap='gray')\n",
    "    width, height = img.shape\n",
    "    thresh = img.max()/2.5\n",
    "    for x in range(width):\n",
    "        for y in range(height):\n",
    "            ax.annotate(str(round(img[x][y],2)), xy=(y,x),\n",
    "                        horizontalalignment='center',\n",
    "                        verticalalignment='center',\n",
    "                        color='white' if img[x][y]<thresh else 'black')\n",
    "\n",
    "fig = plt.figure(figsize = (14,14)) \n",
    "ax = fig.add_subplot(111)\n",
    "visualize_input(X_train[5].reshape(28,28), ax)"
   ]
  },
  {
   "cell_type": "markdown",
   "id": "5b04ddcd",
   "metadata": {
    "papermill": {
     "duration": 0.069842,
     "end_time": "2022-06-02T01:32:40.216766",
     "exception": false,
     "start_time": "2022-06-02T01:32:40.146924",
     "status": "completed"
    },
    "tags": []
   },
   "source": [
    "3 CNN\n",
    "\n",
    "3.1 Define the model\n",
    "\n",
    "It was used the Keras Sequential API, where have just to add one layer at a time, starting from the input.\n",
    "\n",
    "The first is the convolutional (Conv2D) layer. It is like a set of learnable filters. It was choosed to set 64 filters for the two firsts conv2D layers and 64 filters for the two second layers and 64 filters for one third layers and 256 for the last one. Each filter transforms a part of the image (defined by the kernel size) using the kernel filter. The kernel filter matrix is applied on the whole image. Filters can be seen as a transformation of the image.\n",
    "\n",
    "The CNN can isolate features that are useful everywhere from these transformed images (feature maps).\n",
    "\n",
    "The second important layer in CNN is the pooling (MaxPool2D) layer. This layer simply acts as a downsampling filter. It looks at the 2 neighboring pixels and picks the maximal value. These are used to reduce computational cost, and to some extent also reduce overfitting. Have to choose the pooling size (i.e the area size pooled each time) more the pooling dimension is high, more the downsampling is important.\n",
    "\n",
    "Combining convolutional and pooling layers, CNN are able to combine local features and learn more global features of the image.\n",
    "\n",
    "'Relu' is the rectifier (activation function max(0,x). The rectifier activation function is used to add non linearity to the network.\n",
    "\n",
    "The Flatten layer is use to convert the final feature maps into a one single 1D vector. This flattening step is needed so that can make use of fully connected layers after some convolutional/maxpool layers. It combines all the found local features of the previous convolutional layers.\n",
    "\n",
    "In the end it was used the features in two fully-connected (Dense) layers which is just artificial an neural networks (ANN) classifier. In the last layer(Dense(10,activation=\"softmax\")) the net outputs distribution of probability of each class.\n",
    "\n",
    "Model Definition:"
   ]
  },
  {
   "cell_type": "code",
   "execution_count": 21,
   "id": "346f8a40",
   "metadata": {
    "execution": {
     "iopub.execute_input": "2022-06-02T01:32:40.357112Z",
     "iopub.status.busy": "2022-06-02T01:32:40.356697Z",
     "iopub.status.idle": "2022-06-02T01:32:40.672883Z",
     "shell.execute_reply": "2022-06-02T01:32:40.671769Z"
    },
    "papermill": {
     "duration": 0.390664,
     "end_time": "2022-06-02T01:32:40.675880",
     "exception": false,
     "start_time": "2022-06-02T01:32:40.285216",
     "status": "completed"
    },
    "tags": []
   },
   "outputs": [
    {
     "name": "stderr",
     "output_type": "stream",
     "text": [
      "2022-06-02 01:32:40.407704: I tensorflow/core/common_runtime/process_util.cc:146] Creating new thread pool with default inter op setting: 2. Tune using inter_op_parallelism_threads for best performance.\n"
     ]
    }
   ],
   "source": [
    "#Creating CNN model\n",
    "\"\"\"\n",
    "  [[Conv2D->relu]*2 -> BatchNormalization -> MaxPool2D -> Dropout]*2 -> \n",
    "  [Conv2D->relu]*2 -> BatchNormalization -> Dropout -> \n",
    "  Flatten -> Dense -> BatchNormalization -> Dropout -> Out\n",
    "\"\"\"\n",
    "model = Sequential()\n",
    "\n",
    "model.add(Conv2D(filters = 64, kernel_size = (5,5),padding = 'Same', activation ='relu', input_shape = (28,28,1)))\n",
    "model.add(BatchNormalization())\n",
    "\n",
    "model.add(Conv2D(filters = 64, kernel_size = (5,5),padding = 'Same', activation ='relu'))\n",
    "model.add(BatchNormalization())\n",
    "\n",
    "model.add(MaxPool2D(pool_size=(2,2)))\n",
    "model.add(Dropout(0.25))\n",
    "\n",
    "model.add(Conv2D(filters = 64, kernel_size = (3,3),padding = 'Same', activation ='relu'))\n",
    "model.add(BatchNormalization())\n",
    "\n",
    "model.add(Conv2D(filters = 64, kernel_size = (3,3),padding = 'Same', activation ='relu'))\n",
    "model.add(BatchNormalization())\n",
    "model.add(MaxPool2D(pool_size=(2,2), strides=(2,2)))\n",
    "model.add(Dropout(0.25))\n",
    "\n",
    "model.add(Conv2D(filters = 64, kernel_size = (3,3), padding = 'Same',  activation ='relu'))\n",
    "model.add(BatchNormalization())\n",
    "model.add(Dropout(0.25))\n",
    "\n",
    "model.add(Flatten())\n",
    "model.add(Dense(256, activation = \"relu\"))\n",
    "model.add(BatchNormalization())\n",
    "model.add(Dropout(0.25))\n",
    "\n",
    "model.add(Dense(10, activation = \"softmax\"))"
   ]
  },
  {
   "cell_type": "code",
   "execution_count": 22,
   "id": "b525e2c2",
   "metadata": {
    "execution": {
     "iopub.execute_input": "2022-06-02T01:32:40.815457Z",
     "iopub.status.busy": "2022-06-02T01:32:40.814793Z",
     "iopub.status.idle": "2022-06-02T01:32:40.819433Z",
     "shell.execute_reply": "2022-06-02T01:32:40.818752Z"
    },
    "papermill": {
     "duration": 0.077811,
     "end_time": "2022-06-02T01:32:40.821549",
     "exception": false,
     "start_time": "2022-06-02T01:32:40.743738",
     "status": "completed"
    },
    "tags": []
   },
   "outputs": [],
   "source": [
    "# Define Optimizer\n",
    "optimizer = RMSprop(lr=0.001, rho=0.9, epsilon=1e-08, decay=0.0)"
   ]
  },
  {
   "cell_type": "code",
   "execution_count": 23,
   "id": "975f5854",
   "metadata": {
    "execution": {
     "iopub.execute_input": "2022-06-02T01:32:40.944905Z",
     "iopub.status.busy": "2022-06-02T01:32:40.944582Z",
     "iopub.status.idle": "2022-06-02T01:32:40.962103Z",
     "shell.execute_reply": "2022-06-02T01:32:40.961201Z"
    },
    "papermill": {
     "duration": 0.081546,
     "end_time": "2022-06-02T01:32:40.964619",
     "exception": false,
     "start_time": "2022-06-02T01:32:40.883073",
     "status": "completed"
    },
    "tags": []
   },
   "outputs": [],
   "source": [
    "# Compile model\n",
    "model.compile(optimizer = optimizer , loss = \"categorical_crossentropy\", metrics=[\"accuracy\"])"
   ]
  },
  {
   "cell_type": "code",
   "execution_count": 24,
   "id": "af98788f",
   "metadata": {
    "execution": {
     "iopub.execute_input": "2022-06-02T01:32:41.093807Z",
     "iopub.status.busy": "2022-06-02T01:32:41.093238Z",
     "iopub.status.idle": "2022-06-02T01:32:41.097801Z",
     "shell.execute_reply": "2022-06-02T01:32:41.097177Z"
    },
    "papermill": {
     "duration": 0.070771,
     "end_time": "2022-06-02T01:32:41.099632",
     "exception": false,
     "start_time": "2022-06-02T01:32:41.028861",
     "status": "completed"
    },
    "tags": []
   },
   "outputs": [],
   "source": [
    "# Audjusting learning rate\n",
    "learning_rate_reduction = ReduceLROnPlateau(monitor='val_acc', \n",
    "                                            patience=3, \n",
    "                                            verbose=1, \n",
    "                                            factor=0.5, \n",
    "                                            min_lr=0.00001)"
   ]
  },
  {
   "cell_type": "code",
   "execution_count": 25,
   "id": "3f6ad76c",
   "metadata": {
    "execution": {
     "iopub.execute_input": "2022-06-02T01:32:41.222446Z",
     "iopub.status.busy": "2022-06-02T01:32:41.221930Z",
     "iopub.status.idle": "2022-06-02T01:32:41.225414Z",
     "shell.execute_reply": "2022-06-02T01:32:41.224785Z"
    },
    "papermill": {
     "duration": 0.066347,
     "end_time": "2022-06-02T01:32:41.227425",
     "exception": false,
     "start_time": "2022-06-02T01:32:41.161078",
     "status": "completed"
    },
    "tags": []
   },
   "outputs": [],
   "source": [
    "# Adjusting epochs and batch_size\n",
    "epochs = 50\n",
    "batch_size = 128"
   ]
  },
  {
   "cell_type": "markdown",
   "id": "512576a0",
   "metadata": {
    "papermill": {
     "duration": 0.062238,
     "end_time": "2022-06-02T01:32:41.351564",
     "exception": false,
     "start_time": "2022-06-02T01:32:41.289326",
     "status": "completed"
    },
    "tags": []
   },
   "source": [
    "3.2 Data augmentation\n",
    "\n",
    "In order to avoid overfitting problem, it's need to expand artificially the handwritten digit dataset. Can make the existing dataset even larger. The idea is to alter the training data with small transformations to reproduce the variations occuring when someone is writing a digit.\n",
    "\n",
    "For example: the number is not centered; the scale is not the same (some who write with big/small numbers); the image is rotated...\n",
    "\n",
    "Approaches that alter the training data in ways that change the array representation while \"keeping the label the same\" are known as data augmentation techniques. Some popular augmentations people use are grayscales, horizontal flips, vertical flips, random crops, color jitters, translations, rotations, and much more.\n",
    "\n",
    "By applying just a couple of these transformations to training data, can easily double or triple the number of training examples and create a very robust model.\n",
    "\n",
    "The improvement is important :\n",
    "\n",
    "Without data augmentation it was obtained an accuracy of 99.114%. But with data augmentation it was achieved 99.985% of accuracy. Therefore, a difference about 1%.\n",
    "\n",
    "For the data augmentation, it was choosed to:\n",
    "\n",
    "- Randomly rotate some training images by 10 degrees;\n",
    "- Randomly Zoom by 10% some training images;\n",
    "- Randomly shift images horizontally by 10% of the width;\n",
    "- Randomly shift images vertically by 10% of the height;\n",
    "- It was not applied a vertical_flip nor horizontal_flip since it could have lead to misclassify symetrical numbers such as 6 and 9."
   ]
  },
  {
   "cell_type": "code",
   "execution_count": 26,
   "id": "49330051",
   "metadata": {
    "execution": {
     "iopub.execute_input": "2022-06-02T01:32:41.486628Z",
     "iopub.status.busy": "2022-06-02T01:32:41.485023Z",
     "iopub.status.idle": "2022-06-02T01:32:41.691084Z",
     "shell.execute_reply": "2022-06-02T01:32:41.690118Z"
    },
    "papermill": {
     "duration": 0.281284,
     "end_time": "2022-06-02T01:32:41.693343",
     "exception": false,
     "start_time": "2022-06-02T01:32:41.412059",
     "status": "completed"
    },
    "tags": []
   },
   "outputs": [],
   "source": [
    "# Data Augmentation \n",
    "datagen = ImageDataGenerator(\n",
    "        featurewise_center=False, # set input mean to 0 over the dataset\n",
    "        samplewise_center=False,  # set each sample mean to 0\n",
    "        featurewise_std_normalization=False,  # divide inputs by std of the dataset\n",
    "        samplewise_std_normalization=False,  # divide each input by its std\n",
    "        zca_whitening=False,  # apply ZCA whitening\n",
    "        rotation_range=10,  # randomly rotate images in the range (degrees, 0 to 180)\n",
    "        zoom_range = 0.1, # Randomly zoom image \n",
    "        width_shift_range=0.1,  # randomly shift images horizontally (fraction of total width)\n",
    "        height_shift_range=0.1,  # randomly shift images vertically (fraction of total height)\n",
    "        horizontal_flip=False,  # randomly flip images\n",
    "        vertical_flip=False)  # randomly flip images\n",
    "\n",
    "# datagen.fit(X_train)\n",
    "train_gen = datagen.flow(X_train,Y_train, batch_size=batch_size)"
   ]
  },
  {
   "cell_type": "markdown",
   "id": "0780dc07",
   "metadata": {
    "papermill": {
     "duration": 0.058251,
     "end_time": "2022-06-02T01:32:41.811662",
     "exception": false,
     "start_time": "2022-06-02T01:32:41.753411",
     "status": "completed"
    },
    "tags": []
   },
   "source": [
    "3.3 Model training"
   ]
  },
  {
   "cell_type": "code",
   "execution_count": 27,
   "id": "b58a5b5a",
   "metadata": {
    "execution": {
     "iopub.execute_input": "2022-06-02T01:32:41.931825Z",
     "iopub.status.busy": "2022-06-02T01:32:41.930527Z",
     "iopub.status.idle": "2022-06-02T10:00:50.397340Z",
     "shell.execute_reply": "2022-06-02T10:00:50.395877Z"
    },
    "papermill": {
     "duration": 30488.619789,
     "end_time": "2022-06-02T10:00:50.489644",
     "exception": false,
     "start_time": "2022-06-02T01:32:41.869855",
     "status": "completed"
    },
    "tags": []
   },
   "outputs": [
    {
     "name": "stderr",
     "output_type": "stream",
     "text": [
      "2022-06-02 01:32:42.063455: I tensorflow/compiler/mlir/mlir_graph_optimization_pass.cc:185] None of the MLIR Optimization Passes are enabled (registered 2)\n"
     ]
    },
    {
     "name": "stdout",
     "output_type": "stream",
     "text": [
      "Epoch 1/50\n",
      "787/787 - 581s - loss: 0.1411 - accuracy: 0.9563 - val_loss: 0.0394 - val_accuracy: 0.9888\n",
      "Epoch 2/50\n",
      "787/787 - 580s - loss: 0.0487 - accuracy: 0.9850 - val_loss: 0.0356 - val_accuracy: 0.9893\n",
      "Epoch 3/50\n",
      "787/787 - 588s - loss: 0.0379 - accuracy: 0.9883 - val_loss: 0.0167 - val_accuracy: 0.9946\n",
      "Epoch 4/50\n",
      "787/787 - 584s - loss: 0.0333 - accuracy: 0.9904 - val_loss: 0.0178 - val_accuracy: 0.9941\n",
      "Epoch 5/50\n",
      "787/787 - 578s - loss: 0.0307 - accuracy: 0.9908 - val_loss: 0.0165 - val_accuracy: 0.9947\n",
      "Epoch 6/50\n",
      "787/787 - 575s - loss: 0.0259 - accuracy: 0.9921 - val_loss: 0.0197 - val_accuracy: 0.9940\n",
      "Epoch 7/50\n",
      "787/787 - 574s - loss: 0.0246 - accuracy: 0.9924 - val_loss: 0.0123 - val_accuracy: 0.9962\n",
      "Epoch 8/50\n",
      "787/787 - 574s - loss: 0.0234 - accuracy: 0.9928 - val_loss: 0.0142 - val_accuracy: 0.9953\n",
      "Epoch 9/50\n",
      "787/787 - 571s - loss: 0.0224 - accuracy: 0.9932 - val_loss: 0.0127 - val_accuracy: 0.9967\n",
      "Epoch 10/50\n",
      "787/787 - 573s - loss: 0.0215 - accuracy: 0.9935 - val_loss: 0.0187 - val_accuracy: 0.9943\n",
      "Epoch 11/50\n",
      "787/787 - 576s - loss: 0.0201 - accuracy: 0.9939 - val_loss: 0.0199 - val_accuracy: 0.9944\n",
      "Epoch 12/50\n",
      "787/787 - 579s - loss: 0.0194 - accuracy: 0.9945 - val_loss: 0.0105 - val_accuracy: 0.9966\n",
      "Epoch 13/50\n",
      "787/787 - 581s - loss: 0.0191 - accuracy: 0.9944 - val_loss: 0.0163 - val_accuracy: 0.9949\n",
      "Epoch 14/50\n",
      "787/787 - 581s - loss: 0.0189 - accuracy: 0.9941 - val_loss: 0.0097 - val_accuracy: 0.9971\n",
      "Epoch 15/50\n",
      "787/787 - 580s - loss: 0.0183 - accuracy: 0.9944 - val_loss: 0.0162 - val_accuracy: 0.9951\n",
      "Epoch 16/50\n",
      "787/787 - 580s - loss: 0.0166 - accuracy: 0.9947 - val_loss: 0.0098 - val_accuracy: 0.9965\n",
      "Epoch 17/50\n",
      "787/787 - 576s - loss: 0.0163 - accuracy: 0.9952 - val_loss: 0.0107 - val_accuracy: 0.9971\n",
      "Epoch 18/50\n",
      "787/787 - 570s - loss: 0.0162 - accuracy: 0.9950 - val_loss: 0.0113 - val_accuracy: 0.9963\n",
      "Epoch 19/50\n",
      "787/787 - 575s - loss: 0.0152 - accuracy: 0.9953 - val_loss: 0.0103 - val_accuracy: 0.9967\n",
      "Epoch 20/50\n",
      "787/787 - 573s - loss: 0.0158 - accuracy: 0.9954 - val_loss: 0.0113 - val_accuracy: 0.9969\n",
      "Epoch 21/50\n",
      "787/787 - 572s - loss: 0.0157 - accuracy: 0.9953 - val_loss: 0.0080 - val_accuracy: 0.9981\n",
      "Epoch 22/50\n",
      "787/787 - 578s - loss: 0.0147 - accuracy: 0.9956 - val_loss: 0.0096 - val_accuracy: 0.9967\n",
      "Epoch 23/50\n",
      "787/787 - 577s - loss: 0.0137 - accuracy: 0.9960 - val_loss: 0.0155 - val_accuracy: 0.9955\n",
      "Epoch 24/50\n",
      "787/787 - 584s - loss: 0.0143 - accuracy: 0.9956 - val_loss: 0.0094 - val_accuracy: 0.9974\n",
      "Epoch 25/50\n",
      "787/787 - 581s - loss: 0.0138 - accuracy: 0.9960 - val_loss: 0.0074 - val_accuracy: 0.9977\n",
      "Epoch 26/50\n",
      "787/787 - 579s - loss: 0.0133 - accuracy: 0.9959 - val_loss: 0.0072 - val_accuracy: 0.9979\n",
      "Epoch 27/50\n",
      "787/787 - 583s - loss: 0.0124 - accuracy: 0.9961 - val_loss: 0.0090 - val_accuracy: 0.9976\n",
      "Epoch 28/50\n",
      "787/787 - 586s - loss: 0.0125 - accuracy: 0.9963 - val_loss: 0.0075 - val_accuracy: 0.9980\n",
      "Epoch 29/50\n",
      "787/787 - 578s - loss: 0.0126 - accuracy: 0.9963 - val_loss: 0.0067 - val_accuracy: 0.9982\n",
      "Epoch 30/50\n",
      "787/787 - 582s - loss: 0.0121 - accuracy: 0.9963 - val_loss: 0.0108 - val_accuracy: 0.9979\n",
      "Epoch 31/50\n",
      "787/787 - 577s - loss: 0.0111 - accuracy: 0.9966 - val_loss: 0.0072 - val_accuracy: 0.9980\n",
      "Epoch 32/50\n",
      "787/787 - 585s - loss: 0.0126 - accuracy: 0.9962 - val_loss: 0.0084 - val_accuracy: 0.9976\n",
      "Epoch 33/50\n",
      "787/787 - 583s - loss: 0.0114 - accuracy: 0.9965 - val_loss: 0.0080 - val_accuracy: 0.9977\n",
      "Epoch 34/50\n",
      "787/787 - 581s - loss: 0.0125 - accuracy: 0.9965 - val_loss: 0.0084 - val_accuracy: 0.9984\n",
      "Epoch 35/50\n",
      "787/787 - 578s - loss: 0.0116 - accuracy: 0.9966 - val_loss: 0.0100 - val_accuracy: 0.9979\n",
      "Epoch 36/50\n",
      "787/787 - 583s - loss: 0.0125 - accuracy: 0.9962 - val_loss: 0.0076 - val_accuracy: 0.9979\n",
      "Epoch 37/50\n",
      "787/787 - 575s - loss: 0.0119 - accuracy: 0.9965 - val_loss: 0.0092 - val_accuracy: 0.9979\n",
      "Epoch 38/50\n",
      "787/787 - 580s - loss: 0.0110 - accuracy: 0.9966 - val_loss: 0.0095 - val_accuracy: 0.9976\n",
      "Epoch 39/50\n",
      "787/787 - 575s - loss: 0.0116 - accuracy: 0.9966 - val_loss: 0.0080 - val_accuracy: 0.9981\n",
      "Epoch 40/50\n",
      "787/787 - 579s - loss: 0.0102 - accuracy: 0.9968 - val_loss: 0.0077 - val_accuracy: 0.9983\n",
      "Epoch 41/50\n",
      "787/787 - 580s - loss: 0.0105 - accuracy: 0.9969 - val_loss: 0.0071 - val_accuracy: 0.9980\n",
      "Epoch 42/50\n",
      "787/787 - 575s - loss: 0.0100 - accuracy: 0.9971 - val_loss: 0.0065 - val_accuracy: 0.9985\n",
      "Epoch 43/50\n",
      "787/787 - 578s - loss: 0.0096 - accuracy: 0.9972 - val_loss: 0.0055 - val_accuracy: 0.9987\n",
      "Epoch 44/50\n",
      "787/787 - 578s - loss: 0.0106 - accuracy: 0.9971 - val_loss: 0.0072 - val_accuracy: 0.9979\n",
      "Epoch 45/50\n",
      "787/787 - 578s - loss: 0.0106 - accuracy: 0.9968 - val_loss: 0.0066 - val_accuracy: 0.9984\n",
      "Epoch 46/50\n",
      "787/787 - 578s - loss: 0.0092 - accuracy: 0.9972 - val_loss: 0.0077 - val_accuracy: 0.9979\n",
      "Epoch 47/50\n",
      "787/787 - 579s - loss: 0.0111 - accuracy: 0.9968 - val_loss: 0.0070 - val_accuracy: 0.9979\n",
      "Epoch 48/50\n",
      "787/787 - 582s - loss: 0.0089 - accuracy: 0.9976 - val_loss: 0.0090 - val_accuracy: 0.9983\n",
      "Epoch 49/50\n",
      "787/787 - 588s - loss: 0.0111 - accuracy: 0.9967 - val_loss: 0.0079 - val_accuracy: 0.9980\n",
      "Epoch 50/50\n",
      "787/787 - 581s - loss: 0.0090 - accuracy: 0.9973 - val_loss: 0.0085 - val_accuracy: 0.9979\n"
     ]
    }
   ],
   "source": [
    "#Prediction model\n",
    "history = model.fit(train_gen,\n",
    "                              epochs = epochs,validation_data = (X_val,Y_val),\n",
    "                              verbose = 2, steps_per_epoch=X_train.shape[0] // batch_size\n",
    "                              , callbacks=[learning_rate_reduction],\n",
    "                             validation_steps = X_val.shape[0] // batch_size)"
   ]
  },
  {
   "cell_type": "markdown",
   "id": "024eb3ea",
   "metadata": {
    "papermill": {
     "duration": 0.097897,
     "end_time": "2022-06-02T10:00:50.686242",
     "exception": false,
     "start_time": "2022-06-02T10:00:50.588345",
     "status": "completed"
    },
    "tags": []
   },
   "source": [
    "4 Evaluate the model\n",
    "\n",
    "4.1 Training and validation curves"
   ]
  },
  {
   "cell_type": "code",
   "execution_count": 28,
   "id": "574bb953",
   "metadata": {
    "execution": {
     "iopub.execute_input": "2022-06-02T10:00:50.889116Z",
     "iopub.status.busy": "2022-06-02T10:00:50.888615Z",
     "iopub.status.idle": "2022-06-02T10:00:51.340193Z",
     "shell.execute_reply": "2022-06-02T10:00:51.339180Z"
    },
    "papermill": {
     "duration": 0.553541,
     "end_time": "2022-06-02T10:00:51.342463",
     "exception": false,
     "start_time": "2022-06-02T10:00:50.788922",
     "status": "completed"
    },
    "tags": []
   },
   "outputs": [
    {
     "data": {
      "image/png": "[encoded data removed]",
      "text/plain": [
       "<Figure size 432x288 with 2 Axes>"
      ]
     },
     "metadata": {},
     "output_type": "display_data"
    }
   ],
   "source": [
    "# Draw the loss and accuracy curves of the training set and the validation set.\n",
    "# Can judge whether it is under-fitting or over-fitting\n",
    "fig, ax = plt.subplots(2,1)\n",
    "ax[0].plot(history.history['loss'], color='b', label=\"Training loss\")\n",
    "ax[0].plot(history.history['val_loss'], color='r', label=\"validation loss\",axes =ax[0])\n",
    "legend = ax[0].legend(loc='best', shadow=True)\n",
    "\n",
    "ax[1].plot(history.history['accuracy'], color='b', label=\"Training accuracy\")\n",
    "ax[1].plot(history.history['val_accuracy'], color='r',label=\"Validation accuracy\")\n",
    "legend = ax[1].legend(loc='best', shadow=True)"
   ]
  },
  {
   "cell_type": "markdown",
   "id": "e90ca171",
   "metadata": {
    "papermill": {
     "duration": 0.09636,
     "end_time": "2022-06-02T10:00:51.541289",
     "exception": false,
     "start_time": "2022-06-02T10:00:51.444929",
     "status": "completed"
    },
    "tags": []
   },
   "source": [
    "4.2 Confusion matrix\n",
    "\n",
    "Confusion matrix can be very helpful to see model drawbacks and behavior. Let's plot the confusion matrix of the validation results:"
   ]
  },
  {
   "cell_type": "code",
   "execution_count": 29,
   "id": "e3d3d891",
   "metadata": {
    "execution": {
     "iopub.execute_input": "2022-06-02T10:00:51.742612Z",
     "iopub.status.busy": "2022-06-02T10:00:51.742000Z",
     "iopub.status.idle": "2022-06-02T10:00:51.752586Z",
     "shell.execute_reply": "2022-06-02T10:00:51.751909Z"
    },
    "papermill": {
     "duration": 0.115971,
     "end_time": "2022-06-02T10:00:51.754868",
     "exception": false,
     "start_time": "2022-06-02T10:00:51.638897",
     "status": "completed"
    },
    "tags": []
   },
   "outputs": [],
   "source": [
    "# Draw a confusion matrix that can be used to observe high false positives\n",
    "\n",
    "def plot_confusion_matrix(cm, classes,\n",
    "                          normalize=False,\n",
    "                          title='Confusion matrix',\n",
    "                          cmap=plt.cm.Blues):\n",
    "    \"\"\"\n",
    "    This function prints and plots the confusion matrix.\n",
    "    Normalization can be applied by setting `normalize=True`.\n",
    "    \"\"\"\n",
    "    plt.imshow(cm, interpolation='nearest', cmap=cmap)\n",
    "    plt.title(title)\n",
    "    plt.colorbar()\n",
    "    tick_marks = np.arange(len(classes))\n",
    "    plt.xticks(tick_marks, classes, rotation=45)\n",
    "    plt.yticks(tick_marks, classes)\n",
    "\n",
    "    if normalize:\n",
    "        cm = cm.astype('float') / cm.sum(axis=1)[:, np.newaxis]\n",
    "\n",
    "    thresh = cm.max() / 2.\n",
    "    for i, j in itertools.product(range(cm.shape[0]), range(cm.shape[1])):\n",
    "        plt.text(j, i, cm[i, j],\n",
    "                 horizontalalignment=\"center\",\n",
    "                 color=\"white\" if cm[i, j] > thresh else \"black\")\n",
    "        \n",
    "    plt.tight_layout()\n",
    "    plt.ylabel('True label')\n",
    "    plt.xlabel('Predicted label');"
   ]
  },
  {
   "cell_type": "code",
   "execution_count": 30,
   "id": "ee748952",
   "metadata": {
    "execution": {
     "iopub.execute_input": "2022-06-02T10:00:51.960051Z",
     "iopub.status.busy": "2022-06-02T10:00:51.959498Z",
     "iopub.status.idle": "2022-06-02T10:01:12.509072Z",
     "shell.execute_reply": "2022-06-02T10:01:12.508166Z"
    },
    "papermill": {
     "duration": 20.659309,
     "end_time": "2022-06-02T10:01:12.511159",
     "exception": false,
     "start_time": "2022-06-02T10:00:51.851850",
     "status": "completed"
    },
    "tags": []
   },
   "outputs": [
    {
     "data": {
      "image/png": "[encoded data removed]",
      "text/plain": [
       "<Figure size 432x288 with 2 Axes>"
      ]
     },
     "metadata": {},
     "output_type": "display_data"
    }
   ],
   "source": [
    "# Predict the values from the validation dataset\n",
    "Y_pred = model.predict(X_val)\n",
    "# Convert predictions classes to one hot vectors \n",
    "Y_pred_classes = np.argmax(Y_pred,axis = 1) \n",
    "# Convert validation observations to one hot vectors\n",
    "Y_true = np.argmax(Y_val,axis = 1) \n",
    "# compute the confusion matrix\n",
    "confusion_mtx = confusion_matrix(Y_true, Y_pred_classes) \n",
    "# plot the confusion matrix\n",
    "plot_confusion_matrix(confusion_mtx, classes = range(10))"
   ]
  },
  {
   "cell_type": "markdown",
   "id": "c455fb55",
   "metadata": {
    "papermill": {
     "duration": 0.0986,
     "end_time": "2022-06-02T10:01:12.708876",
     "exception": false,
     "start_time": "2022-06-02T10:01:12.610276",
     "status": "completed"
    },
    "tags": []
   },
   "source": [
    "Displaying The Errors And Showing The Top 6 Errors And It's True Label:"
   ]
  },
  {
   "cell_type": "code",
   "execution_count": 31,
   "id": "3b058404",
   "metadata": {
    "execution": {
     "iopub.execute_input": "2022-06-02T10:01:12.908287Z",
     "iopub.status.busy": "2022-06-02T10:01:12.907269Z",
     "iopub.status.idle": "2022-06-02T10:01:12.913893Z",
     "shell.execute_reply": "2022-06-02T10:01:12.913015Z"
    },
    "papermill": {
     "duration": 0.108042,
     "end_time": "2022-06-02T10:01:12.916475",
     "exception": false,
     "start_time": "2022-06-02T10:01:12.808433",
     "status": "completed"
    },
    "tags": []
   },
   "outputs": [],
   "source": [
    "# Show some wrong results, and the difference between the predicted label and the real labe\n",
    "errors = (Y_pred_classes - Y_true != 0)\n",
    "\n",
    "Y_pred_classes_errors = Y_pred_classes[errors]\n",
    "Y_pred_errors = Y_pred[errors]\n",
    "Y_true_errors = Y_true[errors]\n",
    "X_val_errors = X_val[errors]"
   ]
  },
  {
   "cell_type": "code",
   "execution_count": 32,
   "id": "27ccf365",
   "metadata": {
    "execution": {
     "iopub.execute_input": "2022-06-02T10:01:13.132548Z",
     "iopub.status.busy": "2022-06-02T10:01:13.132264Z",
     "iopub.status.idle": "2022-06-02T10:01:13.139717Z",
     "shell.execute_reply": "2022-06-02T10:01:13.139045Z"
    },
    "papermill": {
     "duration": 0.109378,
     "end_time": "2022-06-02T10:01:13.141556",
     "exception": false,
     "start_time": "2022-06-02T10:01:13.032178",
     "status": "completed"
    },
    "tags": []
   },
   "outputs": [],
   "source": [
    "def display_errors(errors_index,img_errors,pred_errors, obs_errors):\n",
    "    \"\"\" This function shows 6 images with their predicted and real labels\"\"\"\n",
    "    n = 0\n",
    "    nrows = 2\n",
    "    ncols = 3\n",
    "    fig, ax = plt.subplots(nrows,ncols,sharex=True,sharey=True)\n",
    "    for row in range(nrows):\n",
    "        for col in range(ncols):\n",
    "            error = errors_index[n]\n",
    "            ax[row,col].imshow((img_errors[error]).reshape((28,28)))\n",
    "            ax[row,col].set_title(\"Predicted label :{}\\nTrue label :{}\".format(pred_errors[error],obs_errors[error]))\n",
    "            n += 1"
   ]
  },
  {
   "cell_type": "code",
   "execution_count": 33,
   "id": "d19f6b2c",
   "metadata": {
    "execution": {
     "iopub.execute_input": "2022-06-02T10:01:13.339065Z",
     "iopub.status.busy": "2022-06-02T10:01:13.338131Z",
     "iopub.status.idle": "2022-06-02T10:01:13.977488Z",
     "shell.execute_reply": "2022-06-02T10:01:13.976380Z"
    },
    "papermill": {
     "duration": 0.740886,
     "end_time": "2022-06-02T10:01:13.980136",
     "exception": false,
     "start_time": "2022-06-02T10:01:13.239250",
     "status": "completed"
    },
    "tags": []
   },
   "outputs": [
    {
     "data": {
      "image/png": "[encoded data removed]",
      "text/plain": [
       "<Figure size 432x288 with 6 Axes>"
      ]
     },
     "metadata": {},
     "output_type": "display_data"
    }
   ],
   "source": [
    "# Probabilities of the wrong predicted numbers\n",
    "Y_pred_errors_prob = np.max(Y_pred_errors,axis = 1)\n",
    "\n",
    "# Predicted probabilities of the true values in the error set\n",
    "true_prob_errors = np.diagonal(np.take(Y_pred_errors, Y_true_errors, axis=1))\n",
    "\n",
    "# Difference between the probability of the predicted label and the true label\n",
    "delta_pred_true_errors = Y_pred_errors_prob - true_prob_errors\n",
    "\n",
    "# Sorted list of the delta prob errors\n",
    "sorted_dela_errors = np.argsort(delta_pred_true_errors)\n",
    "\n",
    "# Top 6 errors \n",
    "most_important_errors = sorted_dela_errors[-6:]\n",
    "\n",
    "# Show the top 6 errors\n",
    "display_errors(most_important_errors, X_val_errors, Y_pred_classes_errors, Y_true_errors)"
   ]
  },
  {
   "cell_type": "markdown",
   "id": "a8691aaf",
   "metadata": {
    "papermill": {
     "duration": 0.099551,
     "end_time": "2022-06-02T10:01:14.184103",
     "exception": false,
     "start_time": "2022-06-02T10:01:14.084552",
     "status": "completed"
    },
    "tags": []
   },
   "source": [
    "5 Prediction and submition\n",
    "\n",
    "5.1 Prediction validation results"
   ]
  },
  {
   "cell_type": "code",
   "execution_count": 34,
   "id": "5695c183",
   "metadata": {
    "execution": {
     "iopub.execute_input": "2022-06-02T10:01:14.382856Z",
     "iopub.status.busy": "2022-06-02T10:01:14.382284Z",
     "iopub.status.idle": "2022-06-02T10:02:02.949879Z",
     "shell.execute_reply": "2022-06-02T10:02:02.949163Z"
    },
    "papermill": {
     "duration": 48.67012,
     "end_time": "2022-06-02T10:02:02.952283",
     "exception": false,
     "start_time": "2022-06-02T10:01:14.282163",
     "status": "completed"
    },
    "tags": []
   },
   "outputs": [],
   "source": [
    "# Make predictions about test sets\n",
    "results = model.predict(test)\n",
    "\n",
    "# Convert one-hot vector to number\n",
    "results = np.argmax(results,axis = 1)\n",
    "\n",
    "results = pd.Series(results,name=\"Label\")"
   ]
  },
  {
   "cell_type": "code",
   "execution_count": 35,
   "id": "5ae3f361",
   "metadata": {
    "execution": {
     "iopub.execute_input": "2022-06-02T10:02:03.152728Z",
     "iopub.status.busy": "2022-06-02T10:02:03.151746Z",
     "iopub.status.idle": "2022-06-02T10:02:03.224084Z",
     "shell.execute_reply": "2022-06-02T10:02:03.223255Z"
    },
    "papermill": {
     "duration": 0.174637,
     "end_time": "2022-06-02T10:02:03.226891",
     "exception": false,
     "start_time": "2022-06-02T10:02:03.052254",
     "status": "completed"
    },
    "tags": []
   },
   "outputs": [],
   "source": [
    "# Save the final result in cnn_mnist_submission.csv\n",
    "submission = pd.concat([pd.Series(range(1,28001),name = \"ImageId\"),results],axis = 1)\n",
    "\n",
    "submission.to_csv(\"cnn_mnist_submission.csv\",index=False)"
   ]
  },
  {
   "cell_type": "code",
   "execution_count": 36,
   "id": "11e23b40",
   "metadata": {
    "execution": {
     "iopub.execute_input": "2022-06-02T10:02:03.426123Z",
     "iopub.status.busy": "2022-06-02T10:02:03.425857Z",
     "iopub.status.idle": "2022-06-02T10:02:03.436286Z",
     "shell.execute_reply": "2022-06-02T10:02:03.435438Z"
    },
    "papermill": {
     "duration": 0.11279,
     "end_time": "2022-06-02T10:02:03.439499",
     "exception": false,
     "start_time": "2022-06-02T10:02:03.326709",
     "status": "completed"
    },
    "tags": []
   },
   "outputs": [
    {
     "name": "stdout",
     "output_type": "stream",
     "text": [
      "       ImageId  Label\n",
      "0            1      2\n",
      "1            2      0\n",
      "2            3      9\n",
      "3            4      0\n",
      "4            5      3\n",
      "...        ...    ...\n",
      "27995    27996      9\n",
      "27996    27997      7\n",
      "27997    27998      3\n",
      "27998    27999      9\n",
      "27999    28000      2\n",
      "\n",
      "[28000 rows x 2 columns]\n"
     ]
    }
   ],
   "source": [
    "print(submission)"
   ]
  },
  {
   "cell_type": "markdown",
   "id": "ab5b5779",
   "metadata": {
    "papermill": {
     "duration": 0.099725,
     "end_time": "2022-06-02T10:02:03.640047",
     "exception": false,
     "start_time": "2022-06-02T10:02:03.540322",
     "status": "completed"
    },
    "tags": []
   },
   "source": [
    "References:\n",
    "\n",
    "- <https://www.kaggle.com/code/ahmed121ashraf131/mnist-simple-cnn-knn-accuracy-100-top-1>;\n",
    "- <https://www.kaggle.com/code/raghaw/mnist-cnn-external-data-perfect-score>;\n",
    "- <https://www.kaggle.com/code/nakulsingh1289/score-1-00-in-digit-recognizer>."
   ]
  }
 ],
 "metadata": {
  "kernelspec": {
   "display_name": "Python 3",
   "language": "python",
   "name": "python3"
  },
  "language_info": {
   "codemirror_mode": {
    "name": "ipython",
    "version": 3
   },
   "file_extension": ".py",
   "mimetype": "text/x-python",
   "name": "python",
   "nbconvert_exporter": "python",
   "pygments_lexer": "ipython3",
   "version": "3.7.12"
  },
  "papermill": {
   "default_parameters": {},
   "duration": 30599.758532,
   "end_time": "2022-06-02T10:02:06.640519",
   "environment_variables": {},
   "exception": null,
   "input_path": "__notebook__.ipynb",
   "output_path": "__notebook__.ipynb",
   "parameters": {},
   "start_time": "2022-06-02T01:32:06.881987",
   "version": "2.3.4"
  }
 },
 "nbformat": 4,
 "nbformat_minor": 5
}
